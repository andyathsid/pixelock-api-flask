{
 "cells": [
  {
   "cell_type": "code",
   "execution_count": 7,
   "metadata": {},
   "outputs": [],
   "source": [
    "def preprocess_text(text):\n",
    "    \"\"\"Preprocess text by keeping all characters as literals\"\"\"\n",
    "    # Convert escape sequences to literal characters\n",
    "    processed = text.encode('unicode_escape').decode('utf-8')\n",
    "    return processed"
   ]
  },
  {
   "cell_type": "code",
   "execution_count": 8,
   "metadata": {},
   "outputs": [],
   "source": [
    "def caesar_cipher(text, alphabet, shift, mode='encrypt'):\n",
    "    \"\"\"Encrypts or decrypts text using the Caesar cipher.\"\"\"\n",
    "    result = \"\"\n",
    "    for char in text:\n",
    "        if char in alphabet:\n",
    "            index = alphabet.index(char)\n",
    "            if mode == 'encrypt':\n",
    "                new_index = (index + shift) % len(alphabet)\n",
    "            else:  # mode == 'decrypt'\n",
    "                new_index = (index - shift) % len(alphabet)\n",
    "            result += alphabet[new_index]\n",
    "        else:\n",
    "            result += char\n",
    "    return result"
   ]
  },
  {
   "cell_type": "code",
   "execution_count": 9,
   "metadata": {},
   "outputs": [
    {
     "name": "stdout",
     "output_type": "stream",
     "text": [
      "Encrypted: p|g;dhzi;ih\\-=uzt/=iq/igt/qt\\t/i,i\\/u;i/i;tiqtq\n",
      "Decrypted: pneumonoultramicroscopicsilicovolcanoconiosis\n"
     ]
    }
   ],
   "source": [
    "def encode_key(key, alphabet):\n",
    "    \"\"\"Encodes the key to a string using the given alphabet (base conversion).\"\"\"\n",
    "    base = len(alphabet)\n",
    "    if key == 0:\n",
    "        return alphabet[0]\n",
    "    \n",
    "    digits = []\n",
    "    while key:\n",
    "        digits.append(alphabet[key % base])\n",
    "        key //= base\n",
    "    return \"\".join(digits[::-1])  # Reverse to get correct order\n",
    "\n",
    "def decode_key(encoded_key, alphabet):\n",
    "    \"\"\"Decodes the key from a string to an integer.\"\"\"\n",
    "    base = len(alphabet)\n",
    "    key = 0\n",
    "    for char in encoded_key:\n",
    "        key = key * base + alphabet.index(char)\n",
    "    return key\n",
    "\n",
    "def encrypt_with_key(text, alphabet, shift, handle_escapes=False):\n",
    "    \"\"\"Encrypts text and encodes the key within the ciphertext.\"\"\"\n",
    "    if handle_escapes:\n",
    "        text = text.encode('unicode_escape').decode('utf-8')\n",
    "    encrypted_text = caesar_cipher(text, alphabet, shift, mode='encrypt')\n",
    "    encoded_key = encode_key(shift, alphabet)\n",
    "    return f\"{encoded_key}|{encrypted_text}\"\n",
    "\n",
    "def decrypt_with_key(encrypted_message, alphabet):\n",
    "    \"\"\"Decrypts a message containing an encoded key.\"\"\"\n",
    "    try:\n",
    "        encoded_key, encrypted_text = encrypted_message.split(\"|\", 1)\n",
    "        shift = decode_key(encoded_key, alphabet)\n",
    "        return caesar_cipher(encrypted_text, alphabet, shift, mode='decrypt')\n",
    "    except ValueError:\n",
    "        return \"Invalid encrypted message format.\"\n",
    "\n",
    "\n",
    "# Example usage:\n",
    "shift_key = 3\n",
    "plaintext = \"pneumonoultramicroscopicsilicovolcanoconiosis\"\n",
    "processed_plaintext = preprocess_text(plaintext)\n",
    "alphabet = r\"`,.pyfgcrl/=\\aoeuidhtns-;qjkxbmwvz\"\n",
    "processed_alphabet = preprocess_text(alphabet)\n",
    "\n",
    "# Encrypt\n",
    "encrypted = encrypt_with_key(processed_plaintext, processed_alphabet, shift_key)\n",
    "print(f\"Encrypted: {encrypted}\")\n",
    "\n",
    "# Decrypt\n",
    "decrypted = decrypt_with_key(encrypted, processed_alphabet)\n",
    "print(f\"Decrypted: {decrypted}\")"
   ]
  }
 ],
 "metadata": {
  "kernelspec": {
   "display_name": ".pixelock-venv",
   "language": "python",
   "name": "python3"
  },
  "language_info": {
   "codemirror_mode": {
    "name": "ipython",
    "version": 3
   },
   "file_extension": ".py",
   "mimetype": "text/x-python",
   "name": "python",
   "nbconvert_exporter": "python",
   "pygments_lexer": "ipython3",
   "version": "3.13.1"
  }
 },
 "nbformat": 4,
 "nbformat_minor": 2
}
