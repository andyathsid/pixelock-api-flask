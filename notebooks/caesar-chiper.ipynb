{
 "cells": [
  {
   "cell_type": "code",
   "execution_count": 2,
   "metadata": {},
   "outputs": [],
   "source": [
    "def preprocess_text(text):\n",
    "    \"\"\"Preprocess text by keeping all characters as literals\"\"\"\n",
    "    # Convert escape sequences to literal characters\n",
    "    processed = text.encode('unicode_escape').decode('utf-8')\n",
    "    return processed"
   ]
  },
  {
   "cell_type": "code",
   "execution_count": 3,
   "metadata": {},
   "outputs": [],
   "source": [
    "def caesar_cipher_encrypt(text, alphabet, shift):\n",
    "    encrypted_text = \"\"\n",
    "    for char in text:\n",
    "        if char in alphabet:\n",
    "\n",
    "            new_index = (alphabet.index(char) + shift) % len(alphabet)\n",
    "            encrypted_text += alphabet[new_index]\n",
    "        else:\n",
    "            encrypted_text += char\n",
    "    return encrypted_text"
   ]
  },
  {
   "cell_type": "code",
   "execution_count": 4,
   "metadata": {},
   "outputs": [],
   "source": [
    "def caesar_cipher_decrypt(text, alphabet, shift):\n",
    "    decrypted_text = \"\"\n",
    "    for char in text:\n",
    "        if char in alphabet:\n",
    "            new_index = (alphabet.index(char) - shift) % len(alphabet)\n",
    "            decrypted_text += alphabet[new_index]\n",
    "        else:\n",
    "            decrypted_text += char\n",
    "    return decrypted_text"
   ]
  },
  {
   "cell_type": "code",
   "execution_count": 6,
   "metadata": {},
   "outputs": [
    {
     "name": "stdout",
     "output_type": "stream",
     "text": [
      "Encrypted: p##g;dhzi;ih\\-=uzt/=iq/igt/qt\\t/i,i\\/u;i/i;tiqtq\n",
      "Decrypted: pneumonoultramicroscopicsilicovolcanoconiosis\n"
     ]
    }
   ],
   "source": [
    "def encode_key(key, alphabet):\n",
    "    \"\"\"Convert numeric key to alphabetic representation\"\"\"\n",
    "    key_str = str(key)\n",
    "    encoded = \"\"\n",
    "    for digit in key_str:\n",
    "        # Map each digit to character (0->first char, 1->second char, etc)\n",
    "        encoded += alphabet[int(digit)]\n",
    "    return encoded\n",
    "\n",
    "def decode_key(encoded_key, alphabet):\n",
    "    \"\"\"Convert alphabetic key back to number\"\"\"\n",
    "    decoded = \"\"\n",
    "    for char in encoded_key:\n",
    "        # Map each character back to digit\n",
    "        decoded += str(alphabet.index(char))\n",
    "    return int(decoded)\n",
    "\n",
    "def enhanced_caesar_encrypt(text, alphabet, shift):\n",
    "    \"\"\"Encrypt both text and key\"\"\"\n",
    "    # First encrypt the text\n",
    "    encrypted_text = caesar_cipher_encrypt(text, alphabet, shift)\n",
    "    # Then encode the key\n",
    "    encoded_key = encode_key(shift, alphabet)\n",
    "    # Combine with delimiter\n",
    "    return f\"{encoded_key}##{encrypted_text}\"\n",
    "\n",
    "def enhanced_caesar_decrypt(encrypted_message, alphabet):\n",
    "    \"\"\"Decrypt message containing encoded key\"\"\"\n",
    "    # Split key and text\n",
    "    encoded_key, encrypted_text = encrypted_message.split(\"##\")\n",
    "    # Decode the key\n",
    "    shift = decode_key(encoded_key, alphabet)\n",
    "    # Decrypt the text\n",
    "    return caesar_cipher_decrypt(encrypted_text, alphabet, shift)\n",
    "\n",
    "# Example usage:\n",
    "shift_key = 3\n",
    "plaintext = \"pneumonoultramicroscopicsilicovolcanoconiosis\"\n",
    "processed_plaintext = preprocess_text(plaintext)\n",
    "alphabet = r\"`,.pyfgcrl/=\\aoeuidhtns-;qjkxbmwvz\"\n",
    "processed_alphabet = preprocess_text(alphabet)\n",
    "\n",
    "# Encrypt\n",
    "encrypted = enhanced_caesar_encrypt(processed_plaintext, processed_alphabet, shift_key)\n",
    "print(f\"Encrypted: {encrypted}\")\n",
    "\n",
    "# Decrypt\n",
    "decrypted = enhanced_caesar_decrypt(encrypted, processed_alphabet)\n",
    "print(f\"Decrypted: {decrypted}\")"
   ]
  }
 ],
 "metadata": {
  "kernelspec": {
   "display_name": ".pixelock-venv",
   "language": "python",
   "name": "python3"
  },
  "language_info": {
   "codemirror_mode": {
    "name": "ipython",
    "version": 3
   },
   "file_extension": ".py",
   "mimetype": "text/x-python",
   "name": "python",
   "nbconvert_exporter": "python",
   "pygments_lexer": "ipython3",
   "version": "3.13.1"
  }
 },
 "nbformat": 4,
 "nbformat_minor": 2
}
