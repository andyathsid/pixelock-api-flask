{
 "cells": [
  {
   "cell_type": "code",
   "execution_count": 1,
   "metadata": {},
   "outputs": [],
   "source": [
    "def preprocess_text(text):\n",
    "    \"\"\"Preprocess text by keeping all characters as literals\"\"\"\n",
    "    # Convert escape sequences to literal characters\n",
    "    processed = text.encode('unicode_escape').decode('utf-8')\n",
    "    return processed"
   ]
  },
  {
   "cell_type": "code",
   "execution_count": 2,
   "metadata": {},
   "outputs": [],
   "source": [
    "def caesar_cipher(text, alphabet, shift, mode='encrypt', case_strategy='strict', ignore_foreign=False):\n",
    "    \"\"\"\n",
    "    Encrypts or decrypts text using the Caesar cipher.\n",
    "    \n",
    "    Args:\n",
    "        ignore_foreign (bool): If True, foreign characters not in alphabet are ignored\n",
    "    \"\"\"\n",
    "    result = \"\"\n",
    "    \n",
    "    # Create case-specific alphabets if needed\n",
    "    if case_strategy in ['maintain', 'ignore']:\n",
    "        lower_alphabet = alphabet.lower()\n",
    "        upper_alphabet = alphabet.upper()\n",
    "    \n",
    "    for char in text:\n",
    "        if case_strategy == 'strict':\n",
    "            if char in alphabet:\n",
    "                index = alphabet.index(char)\n",
    "                if mode == 'encrypt':\n",
    "                    new_index = (index + shift) % len(alphabet)\n",
    "                else:\n",
    "                    new_index = (index - shift) % len(alphabet)\n",
    "                result += alphabet[new_index]\n",
    "            elif not ignore_foreign:\n",
    "                result += char\n",
    "                \n",
    "        elif case_strategy == 'maintain':\n",
    "            if char.lower() in lower_alphabet:\n",
    "                index = lower_alphabet.index(char.lower())\n",
    "                if mode == 'encrypt':\n",
    "                    new_index = (index + shift) % len(alphabet)\n",
    "                else:\n",
    "                    new_index = (index - shift) % len(alphabet)\n",
    "                if char.isupper():\n",
    "                    result += upper_alphabet[new_index]\n",
    "                else:\n",
    "                    result += lower_alphabet[new_index]\n",
    "            elif not ignore_foreign:\n",
    "                result += char\n",
    "                \n",
    "        elif case_strategy == 'ignore':\n",
    "            char_lower = char.lower()\n",
    "            if char_lower in lower_alphabet:\n",
    "                index = lower_alphabet.index(char_lower)\n",
    "                if mode == 'encrypt':\n",
    "                    new_index = (index + shift) % len(alphabet)\n",
    "                else:\n",
    "                    new_index = (index - shift) % len(alphabet)\n",
    "                result += lower_alphabet[new_index]\n",
    "            elif not ignore_foreign:\n",
    "                result += char\n",
    "                \n",
    "    return result"
   ]
  },
  {
   "cell_type": "code",
   "execution_count": 3,
   "metadata": {},
   "outputs": [],
   "source": [
    "def encode_key(key, alphabet):\n",
    "    \"\"\"Encodes the key to a string using the given alphabet (base conversion).\"\"\"\n",
    "    base = len(alphabet)\n",
    "    if key == 0:\n",
    "        return alphabet[0]\n",
    "    \n",
    "    digits = []\n",
    "    while key:\n",
    "        digits.append(alphabet[key % base])\n",
    "        key //= base\n",
    "    return \"\".join(digits[::-1])  # Reverse to get correct order\n",
    "\n",
    "def decode_key(encoded_key, alphabet):\n",
    "    \"\"\"Decodes the key from a string to an integer.\"\"\"\n",
    "    base = len(alphabet)\n",
    "    key = 0\n",
    "    for char in encoded_key:\n",
    "        key = key * base + alphabet.index(char)\n",
    "    return key"
   ]
  },
  {
   "cell_type": "code",
   "execution_count": 4,
   "metadata": {},
   "outputs": [],
   "source": [
    "def encrypt_with_key(text, alphabet, shift, case_strategy='strict', ignore_foreign=False):\n",
    "    \"\"\"Encrypts text and encodes the key within the ciphertext.\"\"\"\n",
    "    text = preprocess_text(text)\n",
    "    encrypted_text = caesar_cipher(text, alphabet, shift, mode='encrypt', \n",
    "                                 case_strategy=case_strategy, \n",
    "                                 ignore_foreign=ignore_foreign)\n",
    "    encoded_key = encode_key(shift, alphabet)\n",
    "    return f\"{encoded_key}|{encrypted_text}\"\n",
    "\n",
    "def decrypt_with_key(encrypted_message, alphabet, case_strategy='strict', ignore_foreign=False):\n",
    "    \"\"\"Decrypts a message containing an encoded key.\"\"\"\n",
    "    try:\n",
    "        encoded_key, encrypted_text = encrypted_message.split(\"|\", 1)\n",
    "        shift = decode_key(encoded_key, alphabet)\n",
    "        return caesar_cipher(encrypted_text, alphabet, shift, mode='decrypt', \n",
    "                           case_strategy=case_strategy,\n",
    "                           ignore_foreign=ignore_foreign)\n",
    "    except ValueError:\n",
    "        return \"Invalid encrypted message format.\""
   ]
  },
  {
   "cell_type": "code",
   "execution_count": 5,
   "metadata": {},
   "outputs": [],
   "source": [
    "def shift_alphabet(alphabet, shift):\n",
    "    return alphabet[shift:] + alphabet[:shift]"
   ]
  },
  {
   "cell_type": "code",
   "execution_count": 6,
   "metadata": {},
   "outputs": [
    {
     "name": "stdout",
     "output_type": "stream",
     "text": [
      "Encrypted (strict): c|/xs-pnxn-iikuap;eunben/;eb;ii;enfniieaxnenx;nb;bl\n",
      "Decrypted (strict): pneumonoulltramicroscopicsillicovollcanoconiosis.\n",
      "Encrypted (maintain case): c|/xs-pnxn-iikuap;eunben/;eb;ii;enfniieaxnenx;nb;bl\n",
      "Decrypted (maintain case): pneumonoulltramicroscopicsillicovollcanoconiosis.\n",
      "Encrypted (ignore case): c|/xs-pnxn-iikuap;eunben/;eb;ii;enfniieaxnenx;nb;bl\n",
      "Decrypted (ignore case): pneumonoulltramicroscopicsillicovollcanoconiosis.\n"
     ]
    }
   ],
   "source": [
    "# Example usage:\n",
    "alphabet = \"`,.pyfgcrl/=\\aoeuidhtns-;qjkxbmwvz\"\n",
    "text = \"pneumonoulltramicroscopicsillicovollcanoconiosis.\"\n",
    "shift = 7\n",
    "\n",
    "# Test Strict\n",
    "encrypted_maintain = encrypt_with_key(text, alphabet, shift, case_strategy='strict')\n",
    "print(f\"Encrypted (strict): {encrypted_maintain}\")\n",
    "decrypted_maintain = decrypt_with_key(encrypted_maintain, alphabet, case_strategy='strict')\n",
    "print(f\"Decrypted (strict): {decrypted_maintain}\")\n",
    "\n",
    "\n",
    "# Test maintain case\n",
    "encrypted_maintain = encrypt_with_key(text, alphabet, shift, case_strategy='maintain')\n",
    "print(f\"Encrypted (maintain case): {encrypted_maintain}\")\n",
    "decrypted_maintain = decrypt_with_key(encrypted_maintain, alphabet, case_strategy='maintain')\n",
    "print(f\"Decrypted (maintain case): {decrypted_maintain}\")\n",
    "\n",
    "# Test ignore case\n",
    "encrypted_ignore = encrypt_with_key(text, alphabet, shift, case_strategy='ignore')\n",
    "print(f\"Encrypted (ignore case): {encrypted_ignore}\")\n",
    "decrypted_ignore = decrypt_with_key(encrypted_ignore, alphabet, case_strategy='ignore')\n",
    "print(f\"Decrypted (ignore case): {decrypted_ignore}\")\n",
    "\n"
   ]
  },
  {
   "cell_type": "code",
   "execution_count": 7,
   "metadata": {},
   "outputs": [
    {
     "name": "stdout",
     "output_type": "stream",
     "text": [
      "Encrypted (with foreign): c|/xs-pnxn-iikuap;eunben/;eb;ii;enfniieaxnenx;nb;bl\n",
      "Decrypted (with foreign): pneumonoulltramicroscopicsillicovollcanoconiosis.\n",
      "Encrypted (ignore foreign): c|/xs-pnxn-iikup;eunben/;eb;ii;enfniiexnenx;nb;bl\n",
      "Decrypted (ignore foreign): pneumonoulltrmicroscopicsillicovollcnoconiosis.\n"
     ]
    }
   ],
   "source": [
    "# With foreign characters included\n",
    "encrypted = encrypt_with_key(text, alphabet, shift, case_strategy='maintain', ignore_foreign=False)\n",
    "print(f\"Encrypted (with foreign): {encrypted}\")\n",
    "decrypted = decrypt_with_key(encrypted, alphabet, case_strategy='maintain', ignore_foreign=False)\n",
    "print(f\"Decrypted (with foreign): {decrypted}\")\n",
    "\n",
    "# With foreign characters ignored\n",
    "encrypted = encrypt_with_key(text, alphabet, shift, case_strategy='maintain', ignore_foreign=True)\n",
    "print(f\"Encrypted (ignore foreign): {encrypted}\")\n",
    "decrypted = decrypt_with_key(encrypted, alphabet, case_strategy='maintain', ignore_foreign=True)\n",
    "print(f\"Decrypted (ignore foreign): {decrypted}\")"
   ]
  }
 ],
 "metadata": {
  "kernelspec": {
   "display_name": ".pixelock-venv",
   "language": "python",
   "name": "python3"
  },
  "language_info": {
   "codemirror_mode": {
    "name": "ipython",
    "version": 3
   },
   "file_extension": ".py",
   "mimetype": "text/x-python",
   "name": "python",
   "nbconvert_exporter": "python",
   "pygments_lexer": "ipython3",
   "version": "3.11.11"
  }
 },
 "nbformat": 4,
 "nbformat_minor": 2
}
